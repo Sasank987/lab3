{
 "cells": [
  {
   "cell_type": "code",
   "execution_count": null,
   "metadata": {},
   "outputs": [],
   "source": [
    "\n",
    "import numpy as np\n",
    "import pandas as pd\n",
    "df = pd.read_excel(r'\"C:\\Users\\pammi\\Downloads\\Lab Session1 Data.xlsx\"', sheet_name='Purchase data')\n",
    "A = df.iloc[:, 1:4]\n",
    "C = df.iloc[:, 4]\n",
    "dimensionality = A.shape[1]\n",
    "num_vectors = A.shape[0]\n",
    "rank_A = np.linalg.matrix_rank(A)\n",
    "A_pseudo_inverse = np.linalg.pinv(A)\n",
    "cost_per_product = np.dot(A_pseudo_inverse, C)\n",
    "print(\"Dimensionality of the vector space:\", dimensionality)\n",
    "print(\"Number of vectors in the vector space:\", num_vectors)\n",
    "print(\"Rank of Matrix A:\", rank_A)\n",
    "print(\"Cost of each product using Pseudo-Inverse:\")\n",
    "print(cost_per_product)"
   ]
  }
 ],
 "metadata": {
  "language_info": {
   "name": "python"
  }
 },
 "nbformat": 4,
 "nbformat_minor": 2
}
